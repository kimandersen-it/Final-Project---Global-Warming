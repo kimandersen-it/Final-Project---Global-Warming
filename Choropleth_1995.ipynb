{
 "cells": [
  {
   "cell_type": "code",
   "execution_count": 8,
   "metadata": {},
   "outputs": [
    {
     "name": "stdout",
     "output_type": "stream",
     "text": [
      "   Abbrev           State  pdsi\n",
      "0      AL         ALABAMA -0.11\n",
      "1      AZ         ARIZONA  0.58\n",
      "2      AR        ARKANSAS -0.57\n",
      "3      CA      CALIFORNIA  3.74\n",
      "4      CO        COLORADO  2.33\n",
      "5      CT     CONNECTICUT -0.87\n",
      "6      DE        DELAWARE -1.38\n",
      "7      FL         FLORIDA  1.52\n",
      "8      GA         GEORGIA  0.16\n",
      "9      ID           IDAHO  2.76\n",
      "10     IL        ILLINOIS -0.02\n",
      "11     IN         INDIANA -0.63\n",
      "12     IA            IOWA  0.80\n",
      "13     KS          KANSAS  1.52\n",
      "14     KY        KENTUCKY -0.03\n",
      "15     LA       LOUISIANA -0.05\n",
      "16     ME           MAINE -0.66\n",
      "17     MD        MARYLAND -1.31\n",
      "18     MA   MASSACHUSETTS -0.89\n",
      "19     MI        MICHIGAN -0.32\n",
      "20     MN       MINNESOTA  2.47\n",
      "21     MS     MISSISSIPPI  0.00\n",
      "22     MO        MISSOURI  0.99\n",
      "23     MT         MONTANA  1.84\n",
      "24     NE        NEBRASKA  2.67\n",
      "25     NV          NEVADA  3.44\n",
      "26     NH   NEW HAMPSHIRE -0.82\n",
      "27     NJ      NEW JERSEY -1.38\n",
      "28     NM      NEW MEXICO -0.31\n",
      "29     NY        NEW YORK -1.17\n",
      "30     NC  NORTH CAROLINA  0.58\n",
      "31     ND    NORTH DAKOTA  4.93\n",
      "32     OH            OHIO -0.12\n",
      "33     OK        OKLAHOMA  1.34\n",
      "34     OR          OREGON  1.83\n",
      "35     PA    PENNSYLVANIA -0.77\n",
      "36     RI    RHODE ISLAND -1.15\n",
      "37     SC  SOUTH CAROLINA  2.19\n",
      "38     SD    SOUTH DAKOTA  4.73\n",
      "39     TN       TENNESSEE  0.53\n",
      "40     TX           TEXAS  0.34\n",
      "41     UT            UTAH  2.24\n",
      "42     VT         VERMONT -1.06\n",
      "43     VA        VIRGINIA -0.35\n",
      "44     WA      WASHINGTON  1.42\n",
      "45     WV   WEST VIRGINIA -0.50\n",
      "46     WI       WISCONSIN  0.41\n",
      "47     WY         WYOMING  3.62\n"
     ]
    }
   ],
   "source": [
    "\n",
    "import plotly \n",
    "plotly.tools.set_credentials_file(username='kimandersen1', api_key='Lhs6TJZmj6m8lqBgGF9r')\n",
    "\n",
    "import plotly.plotly as py\n",
    "import plotly.graph_objs as go\n",
    "\n",
    "import pandas as pd\n",
    "\n",
    "pdsi_data = pd.read_csv('data/DroughtStartFinal.csv')\n",
    "\n",
    "print(pdsi_data)\n"
   ]
  },
  {
   "cell_type": "code",
   "execution_count": 9,
   "metadata": {},
   "outputs": [],
   "source": [
    "for col in pdsi_data.columns:\n",
    "    pdsi_data[col] = pdsi_data[col].astype(str)\n",
    "\n",
    "scale = [\n",
    "    [0, '#BB2212'],\n",
    "    [.2, '#FE7E0D'],\n",
    "    [.4, '#FEAA0D'],\n",
    "    [.6, '#FEC40D'],\n",
    "    [.8, '#FEEC0D'],\n",
    "    [1, '#FEFB0D']\n",
    "]\n",
    "\n",
    "pdsi_data['text'] = pdsi_data['State'] + '<br>' + \\\n",
    "    'Average PDSI: ' + pdsi_data['pdsi']\n",
    "\n",
    "\n",
    "data = [go.Choropleth(\n",
    "    colorscale = scale,\n",
    "    autocolorscale = False,\n",
    "    locations = pdsi_data['Abbrev'],\n",
    "    z = pdsi_data['pdsi'].astype(float),\n",
    "    locationmode = 'USA-states',\n",
    "    text = pdsi_data['text'],\n",
    "    marker = go.choropleth.Marker(\n",
    "        line = go.choropleth.marker.Line(\n",
    "            color = '#ffffff',\n",
    "            width = 2\n",
    "        )),\n",
    "    colorbar = go.choropleth.ColorBar(\n",
    "        title = \"PDSI\")\n",
    ")]"
   ]
  },
  {
   "cell_type": "code",
   "execution_count": 10,
   "metadata": {},
   "outputs": [
    {
     "name": "stdout",
     "output_type": "stream",
     "text": [
      "High five! You successfully sent some data to your account on plotly. View your plot in your browser at https://plot.ly/~kimandersen1/0 or inside your plot.ly account where it is named 'd3-cloropleth-map'\n"
     ]
    },
    {
     "data": {
      "text/html": [
       "<iframe id=\"igraph\" scrolling=\"no\" style=\"border:none;\" seamless=\"seamless\" src=\"https://plot.ly/~kimandersen1/0.embed\" height=\"525px\" width=\"100%\"></iframe>"
      ],
      "text/plain": [
       "<plotly.tools.PlotlyDisplay object>"
      ]
     },
     "execution_count": 10,
     "metadata": {},
     "output_type": "execute_result"
    }
   ],
   "source": [
    "layout = go.Layout(\n",
    "    title = go.layout.Title(\n",
    "        text = 'Palmer Drought Severity Index (PDSI) for The United States, 1995)'\n",
    "    ),\n",
    "    geo = go.layout.Geo(\n",
    "        scope = 'usa',\n",
    "        projection = go.layout.geo.Projection(type = 'albers usa'),\n",
    "        showlakes = True,\n",
    "        lakecolor = '#ffffff'),\n",
    ")\n",
    "\n",
    "fig = go.Figure(data = data, layout = layout)\n",
    "py.iplot(fig, filename = 'd3-cloropleth-map')"
   ]
  },
  {
   "cell_type": "code",
   "execution_count": null,
   "metadata": {},
   "outputs": [],
   "source": []
  }
 ],
 "metadata": {
  "kernelspec": {
   "display_name": "Python 3",
   "language": "python",
   "name": "python3"
  },
  "language_info": {
   "codemirror_mode": {
    "name": "ipython",
    "version": 3
   },
   "file_extension": ".py",
   "mimetype": "text/x-python",
   "name": "python",
   "nbconvert_exporter": "python",
   "pygments_lexer": "ipython3",
   "version": "3.6.8"
  }
 },
 "nbformat": 4,
 "nbformat_minor": 2
}
