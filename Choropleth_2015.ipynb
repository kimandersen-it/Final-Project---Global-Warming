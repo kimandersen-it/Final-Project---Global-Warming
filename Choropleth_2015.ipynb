{
 "cells": [
  {
   "cell_type": "code",
   "execution_count": 4,
   "metadata": {},
   "outputs": [
    {
     "name": "stdout",
     "output_type": "stream",
     "text": [
      "   Abbrev           State  pdsi\n",
      "0      AL         ALABAMA -0.31\n",
      "1      AZ         ARIZONA -0.80\n",
      "2      AR        ARKANSAS  1.45\n",
      "3      CA      CALIFORNIA -4.27\n",
      "4      CO        COLORADO  2.09\n",
      "5      CT     CONNECTICUT -2.29\n",
      "6      DE        DELAWARE -0.19\n",
      "7      FL         FLORIDA -0.01\n",
      "8      GA         GEORGIA -0.99\n",
      "9      ID           IDAHO -0.05\n",
      "10     IL        ILLINOIS -2.01\n",
      "11     IN         INDIANA  2.38\n",
      "12     IA            IOWA  2.18\n",
      "13     KS          KANSAS  2.65\n",
      "14     KY        KENTUCKY  0.81\n",
      "15     LA       LOUISIANA  2.37\n",
      "16     ME           MAINE  0.08\n",
      "17     MD        MARYLAND  0.20\n",
      "18     MA   MASSACHUSETTS  0.02\n",
      "19     MI        MICHIGAN -0.72\n",
      "20     MN       MINNESOTA -0.18\n",
      "21     MS     MISSISSIPPI  0.39\n",
      "22     MO        MISSOURI  0.27\n",
      "23     MT         MONTANA  2.26\n",
      "24     NE        NEBRASKA -1.42\n",
      "25     NV          NEVADA  2.42\n",
      "26     NH   NEW HAMPSHIRE -3.85\n",
      "27     NJ      NEW JERSEY -0.07\n",
      "28     NM      NEW MEXICO -0.67\n",
      "29     NY        NEW YORK  1.44\n",
      "30     NC  NORTH CAROLINA -0.08\n",
      "31     ND    NORTH DAKOTA  0.30\n",
      "32     OH            OHIO  0.29\n",
      "33     OK        OKLAHOMA  0.87\n",
      "34     OR          OREGON  2.42\n",
      "35     PA    PENNSYLVANIA -2.93\n",
      "36     RI    RHODE ISLAND -0.25\n",
      "37     SC  SOUTH CAROLINA -1.09\n",
      "38     SD    SOUTH DAKOTA  0.39\n",
      "39     TN       TENNESSEE  2.12\n",
      "40     TX           TEXAS  1.46\n",
      "41     UT            UTAH  2.80\n",
      "42     VT         VERMONT -0.85\n",
      "43     VA        VIRGINIA -0.37\n",
      "44     WA      WASHINGTON  0.81\n",
      "45     WV   WEST VIRGINIA -2.09\n",
      "46     WI       WISCONSIN  0.56\n",
      "47     WY         WYOMING  1.20\n",
      "48    NaN             NaN  0.62\n",
      "49    NaN             NaN   NaN\n",
      "50    NaN             NaN  0.83\n"
     ]
    }
   ],
   "source": [
    "\n",
    "import plotly \n",
    "plotly.tools.set_credentials_file(username='kimandersen1', api_key='Lhs6TJZmj6m8lqBgGF9r')\n",
    "\n",
    "import plotly.plotly as py\n",
    "import plotly.graph_objs as go\n",
    "\n",
    "import pandas as pd\n",
    "\n",
    "pdsi_data2 = pd.read_csv('data/DroughtEndFinal.csv')\n",
    "\n",
    "print (pdsi_data2)\n"
   ]
  },
  {
   "cell_type": "code",
   "execution_count": 5,
   "metadata": {},
   "outputs": [],
   "source": [
    "for col in pdsi_data2.columns:\n",
    "    pdsi_data2[col] = pdsi_data2[col].astype(str)\n",
    "\n",
    "scale2 = [\n",
    "    [0, '#BB2212'],\n",
    "    [.2, '#FE7E0D'],\n",
    "    [.4, '#FEAA0D'],\n",
    "    [.6, '#FEC40D'],\n",
    "    [.8, '#FEEC0D'],\n",
    "    [1, '#FEFB0D']\n",
    "]\n",
    "\n",
    "pdsi_data2['text'] = pdsi_data2['State'] + '<br>' + \\\n",
    "    'Average PDSI: ' + pdsi_data2['pdsi']\n",
    "\n",
    "\n",
    "data2 = [go.Choropleth(\n",
    "    colorscale = scale2,\n",
    "    autocolorscale = False,\n",
    "    locations = pdsi_data2['Abbrev'],\n",
    "    z = pdsi_data2['pdsi'].astype(float),\n",
    "    locationmode = 'USA-states',\n",
    "    text = pdsi_data2['text'],\n",
    "    marker = go.choropleth.Marker(\n",
    "        line = go.choropleth.marker.Line(\n",
    "            color = '#ffffff',\n",
    "            width = 2\n",
    "        )),\n",
    "    colorbar = go.choropleth.ColorBar(\n",
    "        title = \"PDSI\")\n",
    ")]"
   ]
  },
  {
   "cell_type": "code",
   "execution_count": 6,
   "metadata": {},
   "outputs": [
    {
     "name": "stdout",
     "output_type": "stream",
     "text": [
      "High five! You successfully sent some data to your account on plotly. View your plot in your browser at https://plot.ly/~kimandersen1/0 or inside your plot.ly account where it is named 'd3-cloropleth-map'\n"
     ]
    },
    {
     "data": {
      "text/html": [
       "<iframe id=\"igraph\" scrolling=\"no\" style=\"border:none;\" seamless=\"seamless\" src=\"https://plot.ly/~kimandersen1/0.embed\" height=\"525px\" width=\"100%\"></iframe>"
      ],
      "text/plain": [
       "<plotly.tools.PlotlyDisplay object>"
      ]
     },
     "execution_count": 6,
     "metadata": {},
     "output_type": "execute_result"
    }
   ],
   "source": [
    "layout = go.Layout(\n",
    "    title = go.layout.Title(\n",
    "        text = 'Palmer Drought Severity Index (PDSI) for The United States, 2015'\n",
    "    ),\n",
    "    geo = go.layout.Geo(\n",
    "        scope = 'usa',\n",
    "        projection = go.layout.geo.Projection(type = 'albers usa'),\n",
    "        showlakes = True,\n",
    "        lakecolor = '#ffffff'),\n",
    ")\n",
    "\n",
    "fig = go.Figure(data = data2, layout = layout)\n",
    "py.iplot(fig, filename = 'd3-cloropleth-map')"
   ]
  },
  {
   "cell_type": "code",
   "execution_count": null,
   "metadata": {},
   "outputs": [],
   "source": []
  }
 ],
 "metadata": {
  "kernelspec": {
   "display_name": "Python 3",
   "language": "python",
   "name": "python3"
  },
  "language_info": {
   "codemirror_mode": {
    "name": "ipython",
    "version": 3
   },
   "file_extension": ".py",
   "mimetype": "text/x-python",
   "name": "python",
   "nbconvert_exporter": "python",
   "pygments_lexer": "ipython3",
   "version": "3.6.8"
  }
 },
 "nbformat": 4,
 "nbformat_minor": 2
}
