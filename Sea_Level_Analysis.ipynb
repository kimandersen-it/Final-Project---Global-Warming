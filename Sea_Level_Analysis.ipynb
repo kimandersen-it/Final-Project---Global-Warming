{
 "cells": [
  {
   "cell_type": "code",
   "execution_count": 28,
   "metadata": {},
   "outputs": [],
   "source": [
    "import matplotlib\n",
    "matplotlib.use('nbagg')\n",
    "from matplotlib import style\n",
    "style.use('fivethirtyeight')\n",
    "import pandas as pd\n",
    "import os\n",
    "%matplotlib inline\n",
    "import matplotlib.pyplot as plt\n",
    "import numpy as np"
   ]
  },
  {
   "cell_type": "code",
   "execution_count": 29,
   "metadata": {},
   "outputs": [],
   "source": [
    "df = pd.read_csv('sea_level1.txt')"
   ]
  },
  {
   "cell_type": "code",
   "execution_count": 30,
   "metadata": {},
   "outputs": [
    {
     "data": {
      "text/html": [
       "<div>\n",
       "<style scoped>\n",
       "    .dataframe tbody tr th:only-of-type {\n",
       "        vertical-align: middle;\n",
       "    }\n",
       "\n",
       "    .dataframe tbody tr th {\n",
       "        vertical-align: top;\n",
       "    }\n",
       "\n",
       "    .dataframe thead th {\n",
       "        text-align: right;\n",
       "    }\n",
       "</style>\n",
       "<table border=\"1\" class=\"dataframe\">\n",
       "  <thead>\n",
       "    <tr style=\"text-align: right;\">\n",
       "      <th></th>\n",
       "      <th>First</th>\n",
       "      <th>Altimeter</th>\n",
       "      <th>Mergedfilecy</th>\n",
       "      <th>Yearfractionyear</th>\n",
       "      <th>Numofobserv</th>\n",
       "      <th>GMSL</th>\n",
       "      <th>SDofGMSL</th>\n",
       "      <th>SDofGMSLVE</th>\n",
       "      <th>Smooth_Gmsl</th>\n",
       "      <th>GMSL20year</th>\n",
       "      <th>SD_GSML</th>\n",
       "      <th>gmsl</th>\n",
       "      <th>gmsl(annu_semi_removed)</th>\n",
       "      <th>Unnamed: 13</th>\n",
       "    </tr>\n",
       "  </thead>\n",
       "  <tbody>\n",
       "    <tr>\n",
       "      <th>0</th>\n",
       "      <td>NaN</td>\n",
       "      <td>0</td>\n",
       "      <td>11</td>\n",
       "      <td>1993.011526</td>\n",
       "      <td>466462</td>\n",
       "      <td>337277.00</td>\n",
       "      <td>-37.24</td>\n",
       "      <td>92.66</td>\n",
       "      <td>-37.02</td>\n",
       "      <td>-37.24</td>\n",
       "      <td>92.66</td>\n",
       "      <td>-37.02</td>\n",
       "      <td>-37.55</td>\n",
       "      <td>NaN</td>\n",
       "    </tr>\n",
       "    <tr>\n",
       "      <th>1</th>\n",
       "      <td>NaN</td>\n",
       "      <td>0</td>\n",
       "      <td>12</td>\n",
       "      <td>1993.038692</td>\n",
       "      <td>460889</td>\n",
       "      <td>334037.31</td>\n",
       "      <td>-40.35</td>\n",
       "      <td>95.39</td>\n",
       "      <td>-38.20</td>\n",
       "      <td>-40.34</td>\n",
       "      <td>95.39</td>\n",
       "      <td>-38.19</td>\n",
       "      <td>-38.06</td>\n",
       "      <td>NaN</td>\n",
       "    </tr>\n",
       "    <tr>\n",
       "      <th>2</th>\n",
       "      <td>NaN</td>\n",
       "      <td>0</td>\n",
       "      <td>13</td>\n",
       "      <td>1993.065858</td>\n",
       "      <td>472123</td>\n",
       "      <td>342416.09</td>\n",
       "      <td>-40.17</td>\n",
       "      <td>92.29</td>\n",
       "      <td>-38.28</td>\n",
       "      <td>-40.16</td>\n",
       "      <td>92.29</td>\n",
       "      <td>-38.27</td>\n",
       "      <td>-37.60</td>\n",
       "      <td>NaN</td>\n",
       "    </tr>\n",
       "    <tr>\n",
       "      <th>3</th>\n",
       "      <td>NaN</td>\n",
       "      <td>0</td>\n",
       "      <td>14</td>\n",
       "      <td>1993.093025</td>\n",
       "      <td>421377</td>\n",
       "      <td>306050.59</td>\n",
       "      <td>-41.92</td>\n",
       "      <td>96.20</td>\n",
       "      <td>-38.56</td>\n",
       "      <td>-41.89</td>\n",
       "      <td>96.19</td>\n",
       "      <td>-38.54</td>\n",
       "      <td>-37.45</td>\n",
       "      <td>NaN</td>\n",
       "    </tr>\n",
       "    <tr>\n",
       "      <th>4</th>\n",
       "      <td>NaN</td>\n",
       "      <td>0</td>\n",
       "      <td>15</td>\n",
       "      <td>1993.120191</td>\n",
       "      <td>459548</td>\n",
       "      <td>331094.09</td>\n",
       "      <td>-36.89</td>\n",
       "      <td>94.64</td>\n",
       "      <td>-37.87</td>\n",
       "      <td>-36.85</td>\n",
       "      <td>94.63</td>\n",
       "      <td>-37.83</td>\n",
       "      <td>-36.44</td>\n",
       "      <td>NaN</td>\n",
       "    </tr>\n",
       "  </tbody>\n",
       "</table>\n",
       "</div>"
      ],
      "text/plain": [
       "   First  Altimeter  Mergedfilecy  Yearfractionyear  Numofobserv       GMSL  \\\n",
       "0    NaN          0            11       1993.011526       466462  337277.00   \n",
       "1    NaN          0            12       1993.038692       460889  334037.31   \n",
       "2    NaN          0            13       1993.065858       472123  342416.09   \n",
       "3    NaN          0            14       1993.093025       421377  306050.59   \n",
       "4    NaN          0            15       1993.120191       459548  331094.09   \n",
       "\n",
       "   SDofGMSL  SDofGMSLVE  Smooth_Gmsl  GMSL20year  SD_GSML   gmsl  \\\n",
       "0    -37.24       92.66       -37.02      -37.24    92.66 -37.02   \n",
       "1    -40.35       95.39       -38.20      -40.34    95.39 -38.19   \n",
       "2    -40.17       92.29       -38.28      -40.16    92.29 -38.27   \n",
       "3    -41.92       96.20       -38.56      -41.89    96.19 -38.54   \n",
       "4    -36.89       94.64       -37.87      -36.85    94.63 -37.83   \n",
       "\n",
       "   gmsl(annu_semi_removed)  Unnamed: 13  \n",
       "0                   -37.55          NaN  \n",
       "1                   -38.06          NaN  \n",
       "2                   -37.60          NaN  \n",
       "3                   -37.45          NaN  \n",
       "4                   -36.44          NaN  "
      ]
     },
     "execution_count": 30,
     "metadata": {},
     "output_type": "execute_result"
    }
   ],
   "source": [
    "df.head()\n"
   ]
  },
  {
   "cell_type": "code",
   "execution_count": 31,
   "metadata": {},
   "outputs": [],
   "source": [
    "df.to_csv('sea_leavel.csv',sep=',')"
   ]
  },
  {
   "cell_type": "code",
   "execution_count": 32,
   "metadata": {},
   "outputs": [
    {
     "data": {
      "text/html": [
       "<div>\n",
       "<style scoped>\n",
       "    .dataframe tbody tr th:only-of-type {\n",
       "        vertical-align: middle;\n",
       "    }\n",
       "\n",
       "    .dataframe tbody tr th {\n",
       "        vertical-align: top;\n",
       "    }\n",
       "\n",
       "    .dataframe thead th {\n",
       "        text-align: right;\n",
       "    }\n",
       "</style>\n",
       "<table border=\"1\" class=\"dataframe\">\n",
       "  <thead>\n",
       "    <tr style=\"text-align: right;\">\n",
       "      <th></th>\n",
       "      <th>First</th>\n",
       "      <th>Altimeter</th>\n",
       "      <th>Mergedfilecy</th>\n",
       "      <th>Yearfractionyear</th>\n",
       "      <th>Numofobserv</th>\n",
       "      <th>GMSL</th>\n",
       "      <th>SDofGMSL</th>\n",
       "      <th>SDofGMSLVE</th>\n",
       "      <th>Smooth_Gmsl</th>\n",
       "      <th>GMSL20year</th>\n",
       "      <th>SD_GSML</th>\n",
       "      <th>gmsl</th>\n",
       "      <th>gmsl(annu_semi_removed)</th>\n",
       "      <th>Unnamed: 13</th>\n",
       "    </tr>\n",
       "  </thead>\n",
       "  <tbody>\n",
       "    <tr>\n",
       "      <th>0</th>\n",
       "      <td>NaN</td>\n",
       "      <td>0</td>\n",
       "      <td>11</td>\n",
       "      <td>1993.011526</td>\n",
       "      <td>466462</td>\n",
       "      <td>337277.00</td>\n",
       "      <td>-37.24</td>\n",
       "      <td>92.66</td>\n",
       "      <td>-37.02</td>\n",
       "      <td>-37.24</td>\n",
       "      <td>92.66</td>\n",
       "      <td>-37.02</td>\n",
       "      <td>-37.55</td>\n",
       "      <td>NaN</td>\n",
       "    </tr>\n",
       "    <tr>\n",
       "      <th>1</th>\n",
       "      <td>NaN</td>\n",
       "      <td>0</td>\n",
       "      <td>12</td>\n",
       "      <td>1993.038692</td>\n",
       "      <td>460889</td>\n",
       "      <td>334037.31</td>\n",
       "      <td>-40.35</td>\n",
       "      <td>95.39</td>\n",
       "      <td>-38.20</td>\n",
       "      <td>-40.34</td>\n",
       "      <td>95.39</td>\n",
       "      <td>-38.19</td>\n",
       "      <td>-38.06</td>\n",
       "      <td>NaN</td>\n",
       "    </tr>\n",
       "    <tr>\n",
       "      <th>2</th>\n",
       "      <td>NaN</td>\n",
       "      <td>0</td>\n",
       "      <td>13</td>\n",
       "      <td>1993.065858</td>\n",
       "      <td>472123</td>\n",
       "      <td>342416.09</td>\n",
       "      <td>-40.17</td>\n",
       "      <td>92.29</td>\n",
       "      <td>-38.28</td>\n",
       "      <td>-40.16</td>\n",
       "      <td>92.29</td>\n",
       "      <td>-38.27</td>\n",
       "      <td>-37.60</td>\n",
       "      <td>NaN</td>\n",
       "    </tr>\n",
       "    <tr>\n",
       "      <th>3</th>\n",
       "      <td>NaN</td>\n",
       "      <td>0</td>\n",
       "      <td>14</td>\n",
       "      <td>1993.093025</td>\n",
       "      <td>421377</td>\n",
       "      <td>306050.59</td>\n",
       "      <td>-41.92</td>\n",
       "      <td>96.20</td>\n",
       "      <td>-38.56</td>\n",
       "      <td>-41.89</td>\n",
       "      <td>96.19</td>\n",
       "      <td>-38.54</td>\n",
       "      <td>-37.45</td>\n",
       "      <td>NaN</td>\n",
       "    </tr>\n",
       "    <tr>\n",
       "      <th>4</th>\n",
       "      <td>NaN</td>\n",
       "      <td>0</td>\n",
       "      <td>15</td>\n",
       "      <td>1993.120191</td>\n",
       "      <td>459548</td>\n",
       "      <td>331094.09</td>\n",
       "      <td>-36.89</td>\n",
       "      <td>94.64</td>\n",
       "      <td>-37.87</td>\n",
       "      <td>-36.85</td>\n",
       "      <td>94.63</td>\n",
       "      <td>-37.83</td>\n",
       "      <td>-36.44</td>\n",
       "      <td>NaN</td>\n",
       "    </tr>\n",
       "  </tbody>\n",
       "</table>\n",
       "</div>"
      ],
      "text/plain": [
       "   First  Altimeter  Mergedfilecy  Yearfractionyear  Numofobserv       GMSL  \\\n",
       "0    NaN          0            11       1993.011526       466462  337277.00   \n",
       "1    NaN          0            12       1993.038692       460889  334037.31   \n",
       "2    NaN          0            13       1993.065858       472123  342416.09   \n",
       "3    NaN          0            14       1993.093025       421377  306050.59   \n",
       "4    NaN          0            15       1993.120191       459548  331094.09   \n",
       "\n",
       "   SDofGMSL  SDofGMSLVE  Smooth_Gmsl  GMSL20year  SD_GSML   gmsl  \\\n",
       "0    -37.24       92.66       -37.02      -37.24    92.66 -37.02   \n",
       "1    -40.35       95.39       -38.20      -40.34    95.39 -38.19   \n",
       "2    -40.17       92.29       -38.28      -40.16    92.29 -38.27   \n",
       "3    -41.92       96.20       -38.56      -41.89    96.19 -38.54   \n",
       "4    -36.89       94.64       -37.87      -36.85    94.63 -37.83   \n",
       "\n",
       "   gmsl(annu_semi_removed)  Unnamed: 13  \n",
       "0                   -37.55          NaN  \n",
       "1                   -38.06          NaN  \n",
       "2                   -37.60          NaN  \n",
       "3                   -37.45          NaN  \n",
       "4                   -36.44          NaN  "
      ]
     },
     "execution_count": 32,
     "metadata": {},
     "output_type": "execute_result"
    }
   ],
   "source": [
    "df.head()"
   ]
  },
  {
   "cell_type": "code",
   "execution_count": 33,
   "metadata": {},
   "outputs": [],
   "source": [
    "df=df.drop(columns=['First','Altimeter','Mergedfilecy','Numofobserv','GMSL','SDofGMSL','SDofGMSL','Smooth_Gmsl','GMSL20year','SD_GSML','gmsl','Unnamed: 13'])"
   ]
  },
  {
   "cell_type": "code",
   "execution_count": 34,
   "metadata": {},
   "outputs": [
    {
     "data": {
      "text/html": [
       "<div>\n",
       "<style scoped>\n",
       "    .dataframe tbody tr th:only-of-type {\n",
       "        vertical-align: middle;\n",
       "    }\n",
       "\n",
       "    .dataframe tbody tr th {\n",
       "        vertical-align: top;\n",
       "    }\n",
       "\n",
       "    .dataframe thead th {\n",
       "        text-align: right;\n",
       "    }\n",
       "</style>\n",
       "<table border=\"1\" class=\"dataframe\">\n",
       "  <thead>\n",
       "    <tr style=\"text-align: right;\">\n",
       "      <th></th>\n",
       "      <th>Yearfractionyear</th>\n",
       "      <th>SDofGMSLVE</th>\n",
       "      <th>gmsl(annu_semi_removed)</th>\n",
       "    </tr>\n",
       "  </thead>\n",
       "  <tbody>\n",
       "    <tr>\n",
       "      <th>0</th>\n",
       "      <td>1993.011526</td>\n",
       "      <td>92.66</td>\n",
       "      <td>-37.55</td>\n",
       "    </tr>\n",
       "    <tr>\n",
       "      <th>1</th>\n",
       "      <td>1993.038692</td>\n",
       "      <td>95.39</td>\n",
       "      <td>-38.06</td>\n",
       "    </tr>\n",
       "    <tr>\n",
       "      <th>2</th>\n",
       "      <td>1993.065858</td>\n",
       "      <td>92.29</td>\n",
       "      <td>-37.60</td>\n",
       "    </tr>\n",
       "    <tr>\n",
       "      <th>3</th>\n",
       "      <td>1993.093025</td>\n",
       "      <td>96.20</td>\n",
       "      <td>-37.45</td>\n",
       "    </tr>\n",
       "    <tr>\n",
       "      <th>4</th>\n",
       "      <td>1993.120191</td>\n",
       "      <td>94.64</td>\n",
       "      <td>-36.44</td>\n",
       "    </tr>\n",
       "  </tbody>\n",
       "</table>\n",
       "</div>"
      ],
      "text/plain": [
       "   Yearfractionyear  SDofGMSLVE  gmsl(annu_semi_removed)\n",
       "0       1993.011526       92.66                   -37.55\n",
       "1       1993.038692       95.39                   -38.06\n",
       "2       1993.065858       92.29                   -37.60\n",
       "3       1993.093025       96.20                   -37.45\n",
       "4       1993.120191       94.64                   -36.44"
      ]
     },
     "execution_count": 34,
     "metadata": {},
     "output_type": "execute_result"
    }
   ],
   "source": [
    "df.head()"
   ]
  },
  {
   "cell_type": "code",
   "execution_count": 35,
   "metadata": {},
   "outputs": [],
   "source": [
    "df = df.rename(columns={'Yearfractionyear': 'Year and Fraction of Year', 'SDofGMSLVE': 'Standard Deviation of GSML','gmsl(annu_semi_removed)':'Global Mean Sea Level'})"
   ]
  },
  {
   "cell_type": "code",
   "execution_count": 36,
   "metadata": {},
   "outputs": [
    {
     "data": {
      "text/html": [
       "<div>\n",
       "<style scoped>\n",
       "    .dataframe tbody tr th:only-of-type {\n",
       "        vertical-align: middle;\n",
       "    }\n",
       "\n",
       "    .dataframe tbody tr th {\n",
       "        vertical-align: top;\n",
       "    }\n",
       "\n",
       "    .dataframe thead th {\n",
       "        text-align: right;\n",
       "    }\n",
       "</style>\n",
       "<table border=\"1\" class=\"dataframe\">\n",
       "  <thead>\n",
       "    <tr style=\"text-align: right;\">\n",
       "      <th></th>\n",
       "      <th>Year and Fraction of Year</th>\n",
       "      <th>Standard Deviation of GSML</th>\n",
       "      <th>Global Mean Sea Level</th>\n",
       "    </tr>\n",
       "  </thead>\n",
       "  <tbody>\n",
       "    <tr>\n",
       "      <th>0</th>\n",
       "      <td>1993.011526</td>\n",
       "      <td>92.66</td>\n",
       "      <td>-37.55</td>\n",
       "    </tr>\n",
       "    <tr>\n",
       "      <th>1</th>\n",
       "      <td>1993.038692</td>\n",
       "      <td>95.39</td>\n",
       "      <td>-38.06</td>\n",
       "    </tr>\n",
       "    <tr>\n",
       "      <th>2</th>\n",
       "      <td>1993.065858</td>\n",
       "      <td>92.29</td>\n",
       "      <td>-37.60</td>\n",
       "    </tr>\n",
       "    <tr>\n",
       "      <th>3</th>\n",
       "      <td>1993.093025</td>\n",
       "      <td>96.20</td>\n",
       "      <td>-37.45</td>\n",
       "    </tr>\n",
       "    <tr>\n",
       "      <th>4</th>\n",
       "      <td>1993.120191</td>\n",
       "      <td>94.64</td>\n",
       "      <td>-36.44</td>\n",
       "    </tr>\n",
       "  </tbody>\n",
       "</table>\n",
       "</div>"
      ],
      "text/plain": [
       "   Year and Fraction of Year  Standard Deviation of GSML  \\\n",
       "0                1993.011526                       92.66   \n",
       "1                1993.038692                       95.39   \n",
       "2                1993.065858                       92.29   \n",
       "3                1993.093025                       96.20   \n",
       "4                1993.120191                       94.64   \n",
       "\n",
       "   Global Mean Sea Level  \n",
       "0                 -37.55  \n",
       "1                 -38.06  \n",
       "2                 -37.60  \n",
       "3                 -37.45  \n",
       "4                 -36.44  "
      ]
     },
     "execution_count": 36,
     "metadata": {},
     "output_type": "execute_result"
    }
   ],
   "source": [
    "df.head()"
   ]
  },
  {
   "cell_type": "code",
   "execution_count": 37,
   "metadata": {},
   "outputs": [
    {
     "name": "stdout",
     "output_type": "stream",
     "text": [
      "Year and Fraction of Year     float64\n",
      "Standard Deviation of GSML    float64\n",
      "Global Mean Sea Level         float64\n",
      "dtype: object\n"
     ]
    }
   ],
   "source": [
    "print(df.dtypes)"
   ]
  },
  {
   "cell_type": "code",
   "execution_count": 38,
   "metadata": {},
   "outputs": [],
   "source": [
    "df['Year and Fraction of Year'] = df['Year and Fraction of Year'].astype(str)"
   ]
  },
  {
   "cell_type": "code",
   "execution_count": 39,
   "metadata": {},
   "outputs": [],
   "source": [
    "df['YEAR'], df['Fraction of the Year']=df['Year and Fraction of Year'].str.split('.',1).str\n"
   ]
  },
  {
   "cell_type": "code",
   "execution_count": 40,
   "metadata": {},
   "outputs": [
    {
     "data": {
      "text/html": [
       "<div>\n",
       "<style scoped>\n",
       "    .dataframe tbody tr th:only-of-type {\n",
       "        vertical-align: middle;\n",
       "    }\n",
       "\n",
       "    .dataframe tbody tr th {\n",
       "        vertical-align: top;\n",
       "    }\n",
       "\n",
       "    .dataframe thead th {\n",
       "        text-align: right;\n",
       "    }\n",
       "</style>\n",
       "<table border=\"1\" class=\"dataframe\">\n",
       "  <thead>\n",
       "    <tr style=\"text-align: right;\">\n",
       "      <th></th>\n",
       "      <th>Year and Fraction of Year</th>\n",
       "      <th>Standard Deviation of GSML</th>\n",
       "      <th>Global Mean Sea Level</th>\n",
       "      <th>YEAR</th>\n",
       "      <th>Fraction of the Year</th>\n",
       "    </tr>\n",
       "  </thead>\n",
       "  <tbody>\n",
       "    <tr>\n",
       "      <th>0</th>\n",
       "      <td>1993.0115260000002</td>\n",
       "      <td>92.66</td>\n",
       "      <td>-37.55</td>\n",
       "      <td>1993</td>\n",
       "      <td>0115260000002</td>\n",
       "    </tr>\n",
       "    <tr>\n",
       "      <th>1</th>\n",
       "      <td>1993.038692</td>\n",
       "      <td>95.39</td>\n",
       "      <td>-38.06</td>\n",
       "      <td>1993</td>\n",
       "      <td>038692</td>\n",
       "    </tr>\n",
       "    <tr>\n",
       "      <th>2</th>\n",
       "      <td>1993.065858</td>\n",
       "      <td>92.29</td>\n",
       "      <td>-37.60</td>\n",
       "      <td>1993</td>\n",
       "      <td>065858</td>\n",
       "    </tr>\n",
       "    <tr>\n",
       "      <th>3</th>\n",
       "      <td>1993.093025</td>\n",
       "      <td>96.20</td>\n",
       "      <td>-37.45</td>\n",
       "      <td>1993</td>\n",
       "      <td>093025</td>\n",
       "    </tr>\n",
       "    <tr>\n",
       "      <th>4</th>\n",
       "      <td>1993.120191</td>\n",
       "      <td>94.64</td>\n",
       "      <td>-36.44</td>\n",
       "      <td>1993</td>\n",
       "      <td>120191</td>\n",
       "    </tr>\n",
       "  </tbody>\n",
       "</table>\n",
       "</div>"
      ],
      "text/plain": [
       "  Year and Fraction of Year  Standard Deviation of GSML  \\\n",
       "0        1993.0115260000002                       92.66   \n",
       "1               1993.038692                       95.39   \n",
       "2               1993.065858                       92.29   \n",
       "3               1993.093025                       96.20   \n",
       "4               1993.120191                       94.64   \n",
       "\n",
       "   Global Mean Sea Level  YEAR Fraction of the Year  \n",
       "0                 -37.55  1993        0115260000002  \n",
       "1                 -38.06  1993               038692  \n",
       "2                 -37.60  1993               065858  \n",
       "3                 -37.45  1993               093025  \n",
       "4                 -36.44  1993               120191  "
      ]
     },
     "execution_count": 40,
     "metadata": {},
     "output_type": "execute_result"
    }
   ],
   "source": [
    "df.head()"
   ]
  },
  {
   "cell_type": "code",
   "execution_count": 41,
   "metadata": {},
   "outputs": [],
   "source": [
    "temp_df=df[['YEAR','Global Mean Sea Level']]"
   ]
  },
  {
   "cell_type": "code",
   "execution_count": 42,
   "metadata": {},
   "outputs": [
    {
     "data": {
      "text/html": [
       "<div>\n",
       "<style scoped>\n",
       "    .dataframe tbody tr th:only-of-type {\n",
       "        vertical-align: middle;\n",
       "    }\n",
       "\n",
       "    .dataframe tbody tr th {\n",
       "        vertical-align: top;\n",
       "    }\n",
       "\n",
       "    .dataframe thead th {\n",
       "        text-align: right;\n",
       "    }\n",
       "</style>\n",
       "<table border=\"1\" class=\"dataframe\">\n",
       "  <thead>\n",
       "    <tr style=\"text-align: right;\">\n",
       "      <th></th>\n",
       "      <th>YEAR</th>\n",
       "      <th>Global Mean Sea Level</th>\n",
       "    </tr>\n",
       "  </thead>\n",
       "  <tbody>\n",
       "    <tr>\n",
       "      <th>0</th>\n",
       "      <td>1993</td>\n",
       "      <td>-37.55</td>\n",
       "    </tr>\n",
       "    <tr>\n",
       "      <th>1</th>\n",
       "      <td>1993</td>\n",
       "      <td>-38.06</td>\n",
       "    </tr>\n",
       "    <tr>\n",
       "      <th>2</th>\n",
       "      <td>1993</td>\n",
       "      <td>-37.60</td>\n",
       "    </tr>\n",
       "    <tr>\n",
       "      <th>3</th>\n",
       "      <td>1993</td>\n",
       "      <td>-37.45</td>\n",
       "    </tr>\n",
       "    <tr>\n",
       "      <th>4</th>\n",
       "      <td>1993</td>\n",
       "      <td>-36.44</td>\n",
       "    </tr>\n",
       "  </tbody>\n",
       "</table>\n",
       "</div>"
      ],
      "text/plain": [
       "   YEAR  Global Mean Sea Level\n",
       "0  1993                 -37.55\n",
       "1  1993                 -38.06\n",
       "2  1993                 -37.60\n",
       "3  1993                 -37.45\n",
       "4  1993                 -36.44"
      ]
     },
     "execution_count": 42,
     "metadata": {},
     "output_type": "execute_result"
    }
   ],
   "source": [
    "temp_df.head()"
   ]
  },
  {
   "cell_type": "code",
   "execution_count": 43,
   "metadata": {},
   "outputs": [],
   "source": [
    "#Group by date and find mean\n",
    "groupby_year = temp_df.groupby(\"YEAR\")\n",
    "mean_agg = groupby_year[\"Global Mean Sea Level\"].mean()\n",
    "Final_df = mean_agg.to_frame()\n",
    "Final_df = Final_df.reset_index()\n",
    "#Final_df=Final_df.drop(\"index\",axis=1)\n",
    "Final_df\n",
    "Final_df.to_csv('temp.csv', index=False)"
   ]
  },
  {
   "cell_type": "code",
   "execution_count": 44,
   "metadata": {},
   "outputs": [
    {
     "data": {
      "text/html": [
       "<div>\n",
       "<style scoped>\n",
       "    .dataframe tbody tr th:only-of-type {\n",
       "        vertical-align: middle;\n",
       "    }\n",
       "\n",
       "    .dataframe tbody tr th {\n",
       "        vertical-align: top;\n",
       "    }\n",
       "\n",
       "    .dataframe thead th {\n",
       "        text-align: right;\n",
       "    }\n",
       "</style>\n",
       "<table border=\"1\" class=\"dataframe\">\n",
       "  <thead>\n",
       "    <tr style=\"text-align: right;\">\n",
       "      <th></th>\n",
       "      <th>YEAR</th>\n",
       "      <th>Global Mean Sea Level</th>\n",
       "    </tr>\n",
       "  </thead>\n",
       "  <tbody>\n",
       "    <tr>\n",
       "      <th>0</th>\n",
       "      <td>1993</td>\n",
       "      <td>-33.767838</td>\n",
       "    </tr>\n",
       "    <tr>\n",
       "      <th>1</th>\n",
       "      <td>1994</td>\n",
       "      <td>-29.650000</td>\n",
       "    </tr>\n",
       "    <tr>\n",
       "      <th>2</th>\n",
       "      <td>1995</td>\n",
       "      <td>-25.971892</td>\n",
       "    </tr>\n",
       "    <tr>\n",
       "      <th>3</th>\n",
       "      <td>1996</td>\n",
       "      <td>-23.606389</td>\n",
       "    </tr>\n",
       "    <tr>\n",
       "      <th>4</th>\n",
       "      <td>1997</td>\n",
       "      <td>-20.116757</td>\n",
       "    </tr>\n",
       "  </tbody>\n",
       "</table>\n",
       "</div>"
      ],
      "text/plain": [
       "   YEAR  Global Mean Sea Level\n",
       "0  1993             -33.767838\n",
       "1  1994             -29.650000\n",
       "2  1995             -25.971892\n",
       "3  1996             -23.606389\n",
       "4  1997             -20.116757"
      ]
     },
     "execution_count": 44,
     "metadata": {},
     "output_type": "execute_result"
    }
   ],
   "source": [
    "#Final_df.columns = Final_df.columns.to_series().apply(lambda x: x.strip())\n",
    "Final_df = pd.read_csv('temp.csv')\n",
    "Final_df.head()"
   ]
  },
  {
   "cell_type": "code",
   "execution_count": 45,
   "metadata": {},
   "outputs": [
    {
     "data": {
      "text/plain": [
       "Text(0, 0.5, 'Global Mean Sea Level')"
      ]
     },
     "execution_count": 45,
     "metadata": {},
     "output_type": "execute_result"
    },
    {
     "data": {
      "image/png": "[encoded data removed]",
      "text/plain": [
       "<Figure size 432x288 with 1 Axes>"
      ]
     },
     "metadata": {
      "needs_background": "light"
     },
     "output_type": "display_data"
    }
   ],
   "source": [
    "ax=Final_df.plot(x ='YEAR', y='Global Mean Sea Level', kind = 'line',title=\"Rising Sea Level\")\n",
    "#ax=Final_df.plot(title=\"Rising Sea Level\")\n",
    "ax.set_xlabel(\"YEAR(1993-2019)\")\n",
    "ax.set_ylabel(\"Global Mean Sea Level\")\n"
   ]
  },
  {
   "cell_type": "code",
   "execution_count": 27,
   "metadata": {},
   "outputs": [
    {
     "data": {
      "text/plain": [
       "Text(0, 0.5, 'Global Mean Sea Level')"
      ]
     },
     "execution_count": 27,
     "metadata": {},
     "output_type": "execute_result"
    },
    {
     "data": {
      "image/png": "[encoded data removed]",
      "text/plain": [
       "<Figure size 432x288 with 1 Axes>"
      ]
     },
     "metadata": {
      "needs_background": "light"
     },
     "output_type": "display_data"
    }
   ],
   "source": [
    "ax=Final_df.groupby(\"YEAR\")['Global Mean Sea Level'].mean().plot(kind='bar',title=\"Rising Sea Level\")\n",
    "ax.set_xlabel(\"YEAR(1993-2019)\")\n",
    "ax.set_ylabel(\"Global Mean Sea Level\")"
   ]
  },
  {
   "cell_type": "code",
   "execution_count": null,
   "metadata": {},
   "outputs": [],
   "source": []
  }
 ],
 "metadata": {
  "kernelspec": {
   "display_name": "Python 3",
   "language": "python",
   "name": "python3"
  },
  "language_info": {
   "codemirror_mode": {
    "name": "ipython",
    "version": 3
   },
   "file_extension": ".py",
   "mimetype": "text/x-python",
   "name": "python",
   "nbconvert_exporter": "python",
   "pygments_lexer": "ipython3",
   "version": "3.7.1"
  }
 },
 "nbformat": 4,
 "nbformat_minor": 2
}
