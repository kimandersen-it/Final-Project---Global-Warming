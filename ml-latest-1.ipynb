{
 "cells": [
  {
   "cell_type": "code",
   "execution_count": 2,
   "metadata": {},
   "outputs": [],
   "source": [
    "import numpy as np\n",
    "import pandas as pd\n",
    "import os\n",
    "from matplotlib import pyplot as plt\n",
    "from os.path import isfile , join\n",
    "from sklearn.linear_model import LinearRegression\n",
    "from sklearn.metrics import mean_squared_error, r2_score\n",
    "from sklearn.model_selection import train_test_split\n",
    "import pylab"
   ]
  },
  {
   "cell_type": "code",
   "execution_count": 3,
   "metadata": {},
   "outputs": [
    {
     "data": {
      "text/html": [
       "<div>\n",
       "<style scoped>\n",
       "    .dataframe tbody tr th:only-of-type {\n",
       "        vertical-align: middle;\n",
       "    }\n",
       "\n",
       "    .dataframe tbody tr th {\n",
       "        vertical-align: top;\n",
       "    }\n",
       "\n",
       "    .dataframe thead th {\n",
       "        text-align: right;\n",
       "    }\n",
       "</style>\n",
       "<table border=\"1\" class=\"dataframe\">\n",
       "  <thead>\n",
       "    <tr style=\"text-align: right;\">\n",
       "      <th></th>\n",
       "      <th>Unnamed: 0</th>\n",
       "      <th>dt</th>\n",
       "      <th>AverageTemperature</th>\n",
       "      <th>AverageTemperatureUncertainty</th>\n",
       "      <th>Country</th>\n",
       "    </tr>\n",
       "  </thead>\n",
       "  <tbody>\n",
       "    <tr>\n",
       "      <th>0</th>\n",
       "      <td>0</td>\n",
       "      <td>1743</td>\n",
       "      <td>4.384</td>\n",
       "      <td>2.294</td>\n",
       "      <td>Åland</td>\n",
       "    </tr>\n",
       "    <tr>\n",
       "      <th>1</th>\n",
       "      <td>5</td>\n",
       "      <td>1744</td>\n",
       "      <td>1.530</td>\n",
       "      <td>4.680</td>\n",
       "      <td>Åland</td>\n",
       "    </tr>\n",
       "    <tr>\n",
       "      <th>2</th>\n",
       "      <td>6</td>\n",
       "      <td>1744</td>\n",
       "      <td>6.702</td>\n",
       "      <td>1.789</td>\n",
       "      <td>Åland</td>\n",
       "    </tr>\n",
       "    <tr>\n",
       "      <th>3</th>\n",
       "      <td>7</td>\n",
       "      <td>1744</td>\n",
       "      <td>11.609</td>\n",
       "      <td>1.577</td>\n",
       "      <td>Åland</td>\n",
       "    </tr>\n",
       "    <tr>\n",
       "      <th>4</th>\n",
       "      <td>8</td>\n",
       "      <td>1744</td>\n",
       "      <td>15.342</td>\n",
       "      <td>1.410</td>\n",
       "      <td>Åland</td>\n",
       "    </tr>\n",
       "  </tbody>\n",
       "</table>\n",
       "</div>"
      ],
      "text/plain": [
       "   Unnamed: 0    dt  AverageTemperature  AverageTemperatureUncertainty Country\n",
       "0           0  1743               4.384                          2.294   Åland\n",
       "1           5  1744               1.530                          4.680   Åland\n",
       "2           6  1744               6.702                          1.789   Åland\n",
       "3           7  1744              11.609                          1.577   Åland\n",
       "4           8  1744              15.342                          1.410   Åland"
      ]
     },
     "execution_count": 3,
     "metadata": {},
     "output_type": "execute_result"
    }
   ],
   "source": [
    "temp_data = pd.read_csv(\"../Temperature/cleanglobaltemp.csv\")\n",
    "temp_data.head()"
   ]
  },
  {
   "cell_type": "code",
   "execution_count": 4,
   "metadata": {
    "scrolled": true
   },
   "outputs": [],
   "source": [
    "#Selected US data\n",
    "is_usa = temp_data[\"Country\"] == \"United States\"\n",
    "usa_data = temp_data[is_usa]"
   ]
  },
  {
   "cell_type": "code",
   "execution_count": 5,
   "metadata": {},
   "outputs": [
    {
     "data": {
      "text/html": [
       "<div>\n",
       "<style scoped>\n",
       "    .dataframe tbody tr th:only-of-type {\n",
       "        vertical-align: middle;\n",
       "    }\n",
       "\n",
       "    .dataframe tbody tr th {\n",
       "        vertical-align: top;\n",
       "    }\n",
       "\n",
       "    .dataframe thead th {\n",
       "        text-align: right;\n",
       "    }\n",
       "</style>\n",
       "<table border=\"1\" class=\"dataframe\">\n",
       "  <thead>\n",
       "    <tr style=\"text-align: right;\">\n",
       "      <th></th>\n",
       "      <th>Unnamed: 0</th>\n",
       "      <th>dt</th>\n",
       "      <th>AverageTemperature</th>\n",
       "      <th>AverageTemperatureUncertainty</th>\n",
       "      <th>Country</th>\n",
       "    </tr>\n",
       "  </thead>\n",
       "  <tbody>\n",
       "    <tr>\n",
       "      <th>524171</th>\n",
       "      <td>554880</td>\n",
       "      <td>1768</td>\n",
       "      <td>15.420</td>\n",
       "      <td>2.880</td>\n",
       "      <td>United States</td>\n",
       "    </tr>\n",
       "    <tr>\n",
       "      <th>524172</th>\n",
       "      <td>554881</td>\n",
       "      <td>1768</td>\n",
       "      <td>8.162</td>\n",
       "      <td>3.386</td>\n",
       "      <td>United States</td>\n",
       "    </tr>\n",
       "    <tr>\n",
       "      <th>524173</th>\n",
       "      <td>554882</td>\n",
       "      <td>1768</td>\n",
       "      <td>1.591</td>\n",
       "      <td>3.783</td>\n",
       "      <td>United States</td>\n",
       "    </tr>\n",
       "    <tr>\n",
       "      <th>524174</th>\n",
       "      <td>554883</td>\n",
       "      <td>1768</td>\n",
       "      <td>-2.882</td>\n",
       "      <td>4.979</td>\n",
       "      <td>United States</td>\n",
       "    </tr>\n",
       "    <tr>\n",
       "      <th>524175</th>\n",
       "      <td>554884</td>\n",
       "      <td>1769</td>\n",
       "      <td>-3.952</td>\n",
       "      <td>4.856</td>\n",
       "      <td>United States</td>\n",
       "    </tr>\n",
       "  </tbody>\n",
       "</table>\n",
       "</div>"
      ],
      "text/plain": [
       "        Unnamed: 0    dt  AverageTemperature  AverageTemperatureUncertainty  \\\n",
       "524171      554880  1768              15.420                          2.880   \n",
       "524172      554881  1768               8.162                          3.386   \n",
       "524173      554882  1768               1.591                          3.783   \n",
       "524174      554883  1768              -2.882                          4.979   \n",
       "524175      554884  1769              -3.952                          4.856   \n",
       "\n",
       "              Country  \n",
       "524171  United States  \n",
       "524172  United States  \n",
       "524173  United States  \n",
       "524174  United States  \n",
       "524175  United States  "
      ]
     },
     "execution_count": 5,
     "metadata": {},
     "output_type": "execute_result"
    }
   ],
   "source": [
    "usa_data.head()"
   ]
  },
  {
   "cell_type": "code",
   "execution_count": 6,
   "metadata": {},
   "outputs": [],
   "source": [
    "#Selected records between 1924 and 2018\n",
    "is_gt_1924 = usa_data[\"dt\"] >= 1924\n",
    "usa_data = usa_data[is_gt_1924]\n",
    "is_le_2018 = usa_data[\"dt\"] <= 2018\n",
    "usa_data = usa_data[is_le_2018]"
   ]
  },
  {
   "cell_type": "code",
   "execution_count": 7,
   "metadata": {},
   "outputs": [
    {
     "data": {
      "text/html": [
       "<div>\n",
       "<style scoped>\n",
       "    .dataframe tbody tr th:only-of-type {\n",
       "        vertical-align: middle;\n",
       "    }\n",
       "\n",
       "    .dataframe tbody tr th {\n",
       "        vertical-align: top;\n",
       "    }\n",
       "\n",
       "    .dataframe thead th {\n",
       "        text-align: right;\n",
       "    }\n",
       "</style>\n",
       "<table border=\"1\" class=\"dataframe\">\n",
       "  <thead>\n",
       "    <tr style=\"text-align: right;\">\n",
       "      <th></th>\n",
       "      <th>dt</th>\n",
       "      <th>AverageTemperature</th>\n",
       "    </tr>\n",
       "  </thead>\n",
       "  <tbody>\n",
       "    <tr>\n",
       "      <th>0</th>\n",
       "      <td>1924</td>\n",
       "      <td>8.052333</td>\n",
       "    </tr>\n",
       "    <tr>\n",
       "      <th>1</th>\n",
       "      <td>1925</td>\n",
       "      <td>9.016417</td>\n",
       "    </tr>\n",
       "    <tr>\n",
       "      <th>2</th>\n",
       "      <td>1926</td>\n",
       "      <td>9.140250</td>\n",
       "    </tr>\n",
       "    <tr>\n",
       "      <th>3</th>\n",
       "      <td>1927</td>\n",
       "      <td>8.719333</td>\n",
       "    </tr>\n",
       "    <tr>\n",
       "      <th>4</th>\n",
       "      <td>1928</td>\n",
       "      <td>8.876000</td>\n",
       "    </tr>\n",
       "  </tbody>\n",
       "</table>\n",
       "</div>"
      ],
      "text/plain": [
       "     dt  AverageTemperature\n",
       "0  1924            8.052333\n",
       "1  1925            9.016417\n",
       "2  1926            9.140250\n",
       "3  1927            8.719333\n",
       "4  1928            8.876000"
      ]
     },
     "execution_count": 7,
     "metadata": {},
     "output_type": "execute_result"
    }
   ],
   "source": [
    "#Group by date and found mean\n",
    "groupby_dt = usa_data.groupby(\"dt\")\n",
    "mean_agg = groupby_dt[\"AverageTemperature\"].mean()\n",
    "temperature_df = mean_agg.to_frame()\n",
    "temperature_df = temperature_df.reset_index()\n",
    "temperature_df.head()"
   ]
  },
  {
   "cell_type": "code",
   "execution_count": 8,
   "metadata": {},
   "outputs": [
    {
     "data": {
      "text/html": [
       "<div>\n",
       "<style scoped>\n",
       "    .dataframe tbody tr th:only-of-type {\n",
       "        vertical-align: middle;\n",
       "    }\n",
       "\n",
       "    .dataframe tbody tr th {\n",
       "        vertical-align: top;\n",
       "    }\n",
       "\n",
       "    .dataframe thead th {\n",
       "        text-align: right;\n",
       "    }\n",
       "</style>\n",
       "<table border=\"1\" class=\"dataframe\">\n",
       "  <thead>\n",
       "    <tr style=\"text-align: right;\">\n",
       "      <th></th>\n",
       "      <th>Name</th>\n",
       "      <th>Category 5</th>\n",
       "      <th>Category 4</th>\n",
       "      <th>Category 3</th>\n",
       "      <th>Category 2</th>\n",
       "      <th>Category 1</th>\n",
       "      <th>Tropical storm</th>\n",
       "      <th>Tropical depression</th>\n",
       "      <th>Unnamed: 9</th>\n",
       "      <th>AverageTemperature</th>\n",
       "    </tr>\n",
       "  </thead>\n",
       "  <tbody>\n",
       "    <tr>\n",
       "      <th>1924</th>\n",
       "      <td>Cuba</td>\n",
       "      <td>Cuba</td>\n",
       "      <td>NaN</td>\n",
       "      <td>NaN</td>\n",
       "      <td>NaN</td>\n",
       "      <td>Florida</td>\n",
       "      <td>The Bahamas</td>\n",
       "      <td>NaN</td>\n",
       "      <td>NaN</td>\n",
       "      <td>8.052333</td>\n",
       "    </tr>\n",
       "    <tr>\n",
       "      <th>1928</th>\n",
       "      <td>Okeechobee</td>\n",
       "      <td>Puerto Rico</td>\n",
       "      <td>Guadeloupe, Turks and Caicos Islands, The Baha...</td>\n",
       "      <td>NaN</td>\n",
       "      <td>NaN</td>\n",
       "      <td>South Carolina</td>\n",
       "      <td>NaN</td>\n",
       "      <td>NaN</td>\n",
       "      <td>NaN</td>\n",
       "      <td>8.876000</td>\n",
       "    </tr>\n",
       "    <tr>\n",
       "      <th>1932</th>\n",
       "      <td>Bahamas</td>\n",
       "      <td>The Bahamas</td>\n",
       "      <td>NaN</td>\n",
       "      <td>NaN</td>\n",
       "      <td>NaN</td>\n",
       "      <td>NaN</td>\n",
       "      <td>NaN</td>\n",
       "      <td>NaN</td>\n",
       "      <td>NaN</td>\n",
       "      <td>8.539500</td>\n",
       "    </tr>\n",
       "    <tr>\n",
       "      <th>1932</th>\n",
       "      <td>Cuba</td>\n",
       "      <td>NaN</td>\n",
       "      <td>Little Cayman &amp; Cuba</td>\n",
       "      <td>The Bahamas</td>\n",
       "      <td>NaN</td>\n",
       "      <td>NaN</td>\n",
       "      <td>Martinique</td>\n",
       "      <td>NaN</td>\n",
       "      <td>NaN</td>\n",
       "      <td>8.539500</td>\n",
       "    </tr>\n",
       "    <tr>\n",
       "      <th>1933</th>\n",
       "      <td>Cuba–Brownsville</td>\n",
       "      <td>The Bahamas</td>\n",
       "      <td>NaN</td>\n",
       "      <td>Cuba &amp; Texas</td>\n",
       "      <td>NaN</td>\n",
       "      <td>NaN</td>\n",
       "      <td>NaN</td>\n",
       "      <td>NaN</td>\n",
       "      <td>NaN</td>\n",
       "      <td>9.030583</td>\n",
       "    </tr>\n",
       "  </tbody>\n",
       "</table>\n",
       "</div>"
      ],
      "text/plain": [
       "                  Name   Category 5  \\\n",
       "1924              Cuba         Cuba   \n",
       "1928        Okeechobee  Puerto Rico   \n",
       "1932           Bahamas  The Bahamas   \n",
       "1932              Cuba          NaN   \n",
       "1933  Cuba–Brownsville  The Bahamas   \n",
       "\n",
       "                                             Category 4    Category 3  \\\n",
       "1924                                                NaN           NaN   \n",
       "1928  Guadeloupe, Turks and Caicos Islands, The Baha...           NaN   \n",
       "1932                                                NaN           NaN   \n",
       "1932                               Little Cayman & Cuba   The Bahamas   \n",
       "1933                                                NaN  Cuba & Texas   \n",
       "\n",
       "     Category 2      Category 1 Tropical storm Tropical depression  \\\n",
       "1924        NaN         Florida    The Bahamas                 NaN   \n",
       "1928        NaN  South Carolina            NaN                 NaN   \n",
       "1932        NaN             NaN            NaN                 NaN   \n",
       "1932        NaN             NaN     Martinique                 NaN   \n",
       "1933        NaN             NaN            NaN                 NaN   \n",
       "\n",
       "      Unnamed: 9  AverageTemperature  \n",
       "1924         NaN            8.052333  \n",
       "1928         NaN            8.876000  \n",
       "1932         NaN            8.539500  \n",
       "1932         NaN            8.539500  \n",
       "1933         NaN            9.030583  "
      ]
     },
     "execution_count": 8,
     "metadata": {},
     "output_type": "execute_result"
    }
   ],
   "source": [
    "#Combined hurricane with temperature data\n",
    "hurricane = pd.read_csv(\"hurricane_cleaned.csv\")\n",
    "hurricane_with_avg_temp = hurricane.set_index(\"Year\").join(temperature_df.set_index(\"dt\"))\n",
    "hurricane_with_avg_temp.head()"
   ]
  },
  {
   "cell_type": "code",
   "execution_count": 9,
   "metadata": {},
   "outputs": [
    {
     "data": {
      "text/html": [
       "<div>\n",
       "<style scoped>\n",
       "    .dataframe tbody tr th:only-of-type {\n",
       "        vertical-align: middle;\n",
       "    }\n",
       "\n",
       "    .dataframe tbody tr th {\n",
       "        vertical-align: top;\n",
       "    }\n",
       "\n",
       "    .dataframe thead th {\n",
       "        text-align: right;\n",
       "    }\n",
       "</style>\n",
       "<table border=\"1\" class=\"dataframe\">\n",
       "  <thead>\n",
       "    <tr style=\"text-align: right;\">\n",
       "      <th></th>\n",
       "      <th>Year</th>\n",
       "      <th>Name</th>\n",
       "    </tr>\n",
       "  </thead>\n",
       "  <tbody>\n",
       "    <tr>\n",
       "      <th>0</th>\n",
       "      <td>1924</td>\n",
       "      <td>1</td>\n",
       "    </tr>\n",
       "    <tr>\n",
       "      <th>1</th>\n",
       "      <td>1928</td>\n",
       "      <td>1</td>\n",
       "    </tr>\n",
       "    <tr>\n",
       "      <th>2</th>\n",
       "      <td>1932</td>\n",
       "      <td>2</td>\n",
       "    </tr>\n",
       "    <tr>\n",
       "      <th>3</th>\n",
       "      <td>1933</td>\n",
       "      <td>2</td>\n",
       "    </tr>\n",
       "    <tr>\n",
       "      <th>4</th>\n",
       "      <td>1935</td>\n",
       "      <td>1</td>\n",
       "    </tr>\n",
       "  </tbody>\n",
       "</table>\n",
       "</div>"
      ],
      "text/plain": [
       "   Year  Name\n",
       "0  1924     1\n",
       "1  1928     1\n",
       "2  1932     2\n",
       "3  1933     2\n",
       "4  1935     1"
      ]
     },
     "execution_count": 9,
     "metadata": {},
     "output_type": "execute_result"
    }
   ],
   "source": [
    "# Created hurricane count dataframe\n",
    "count_series = hurricane.groupby(\"Year\")[\"Name\"].count()\n",
    "count_df = count_series.to_frame()\n",
    "count_df = count_df.reset_index()\n",
    "count_df.head()"
   ]
  },
  {
   "cell_type": "code",
   "execution_count": 10,
   "metadata": {},
   "outputs": [
    {
     "data": {
      "text/html": [
       "<div>\n",
       "<style scoped>\n",
       "    .dataframe tbody tr th:only-of-type {\n",
       "        vertical-align: middle;\n",
       "    }\n",
       "\n",
       "    .dataframe tbody tr th {\n",
       "        vertical-align: top;\n",
       "    }\n",
       "\n",
       "    .dataframe thead th {\n",
       "        text-align: right;\n",
       "    }\n",
       "</style>\n",
       "<table border=\"1\" class=\"dataframe\">\n",
       "  <thead>\n",
       "    <tr style=\"text-align: right;\">\n",
       "      <th></th>\n",
       "      <th>Name</th>\n",
       "      <th>AverageTemperature</th>\n",
       "    </tr>\n",
       "    <tr>\n",
       "      <th>Year</th>\n",
       "      <th></th>\n",
       "      <th></th>\n",
       "    </tr>\n",
       "  </thead>\n",
       "  <tbody>\n",
       "    <tr>\n",
       "      <th>1924</th>\n",
       "      <td>1</td>\n",
       "      <td>8.052333</td>\n",
       "    </tr>\n",
       "    <tr>\n",
       "      <th>1928</th>\n",
       "      <td>1</td>\n",
       "      <td>8.876000</td>\n",
       "    </tr>\n",
       "    <tr>\n",
       "      <th>1932</th>\n",
       "      <td>2</td>\n",
       "      <td>8.539500</td>\n",
       "    </tr>\n",
       "    <tr>\n",
       "      <th>1933</th>\n",
       "      <td>2</td>\n",
       "      <td>9.030583</td>\n",
       "    </tr>\n",
       "    <tr>\n",
       "      <th>1935</th>\n",
       "      <td>1</td>\n",
       "      <td>8.742500</td>\n",
       "    </tr>\n",
       "  </tbody>\n",
       "</table>\n",
       "</div>"
      ],
      "text/plain": [
       "      Name  AverageTemperature\n",
       "Year                          \n",
       "1924     1            8.052333\n",
       "1928     1            8.876000\n",
       "1932     2            8.539500\n",
       "1933     2            9.030583\n",
       "1935     1            8.742500"
      ]
     },
     "execution_count": 10,
     "metadata": {},
     "output_type": "execute_result"
    }
   ],
   "source": [
    "#Combined hurricane count with avg_temperature\n",
    "combined = count_df.set_index(\"Year\").join(temperature_df.set_index(\"dt\"))\n",
    "combined.head()"
   ]
  },
  {
   "cell_type": "code",
   "execution_count": 11,
   "metadata": {},
   "outputs": [
    {
     "data": {
      "text/html": [
       "<div>\n",
       "<style scoped>\n",
       "    .dataframe tbody tr th:only-of-type {\n",
       "        vertical-align: middle;\n",
       "    }\n",
       "\n",
       "    .dataframe tbody tr th {\n",
       "        vertical-align: top;\n",
       "    }\n",
       "\n",
       "    .dataframe thead th {\n",
       "        text-align: right;\n",
       "    }\n",
       "</style>\n",
       "<table border=\"1\" class=\"dataframe\">\n",
       "  <thead>\n",
       "    <tr style=\"text-align: right;\">\n",
       "      <th></th>\n",
       "      <th>Year</th>\n",
       "      <th>Hurricane Count</th>\n",
       "      <th>AverageTemperature</th>\n",
       "    </tr>\n",
       "  </thead>\n",
       "  <tbody>\n",
       "    <tr>\n",
       "      <th>0</th>\n",
       "      <td>1924</td>\n",
       "      <td>1</td>\n",
       "      <td>8.052333</td>\n",
       "    </tr>\n",
       "    <tr>\n",
       "      <th>1</th>\n",
       "      <td>1928</td>\n",
       "      <td>1</td>\n",
       "      <td>8.876000</td>\n",
       "    </tr>\n",
       "    <tr>\n",
       "      <th>2</th>\n",
       "      <td>1932</td>\n",
       "      <td>2</td>\n",
       "      <td>8.539500</td>\n",
       "    </tr>\n",
       "    <tr>\n",
       "      <th>3</th>\n",
       "      <td>1933</td>\n",
       "      <td>2</td>\n",
       "      <td>9.030583</td>\n",
       "    </tr>\n",
       "    <tr>\n",
       "      <th>4</th>\n",
       "      <td>1935</td>\n",
       "      <td>1</td>\n",
       "      <td>8.742500</td>\n",
       "    </tr>\n",
       "  </tbody>\n",
       "</table>\n",
       "</div>"
      ],
      "text/plain": [
       "   Year  Hurricane Count  AverageTemperature\n",
       "0  1924                1            8.052333\n",
       "1  1928                1            8.876000\n",
       "2  1932                2            8.539500\n",
       "3  1933                2            9.030583\n",
       "4  1935                1            8.742500"
      ]
     },
     "execution_count": 11,
     "metadata": {},
     "output_type": "execute_result"
    }
   ],
   "source": [
    "# Reset index and rename column and cleanup\n",
    "combined = combined.reset_index()\n",
    "combined = combined.rename(columns={\"Name\":\"Hurricane Count\"})\n",
    "combined = combined[[\"Year\", \"Hurricane Count\", \"AverageTemperature\"]]\n",
    "combined.head()"
   ]
  },
  {
   "cell_type": "code",
   "execution_count": 12,
   "metadata": {},
   "outputs": [
    {
     "data": {
      "image/png": "[encoded data removed]",
      "text/plain": [
       "<Figure size 432x288 with 1 Axes>"
      ]
     },
     "metadata": {
      "needs_background": "light"
     },
     "output_type": "display_data"
    }
   ],
   "source": [
    "\n",
    "combined = combined.set_index([\"Year\"])\n",
    "plt1 = combined.plot()"
   ]
  },
  {
   "cell_type": "code",
   "execution_count": 13,
   "metadata": {},
   "outputs": [],
   "source": [
    "# Removed nan\n",
    "combined = combined.dropna()"
   ]
  },
  {
   "cell_type": "code",
   "execution_count": 14,
   "metadata": {},
   "outputs": [
    {
     "name": "stdout",
     "output_type": "stream",
     "text": [
      "Mean Squared Error (MSE): 0.36451095279272955\n",
      "R-squared (R2 ): 0.0\n"
     ]
    }
   ],
   "source": [
    "# Model Using LinearRegression \n",
    "model = LinearRegression()\n",
    "# Created dependent and independent variables\n",
    "y = combined[\"Hurricane Count\"].values.reshape(-1, 1)\n",
    "X = combined[\"AverageTemperature\"].values.reshape(-1, 1)\n",
    "\n",
    "\n",
    "# Split sample into training and testing\n",
    "X_train, X_test, y_train, y_test = train_test_split(X, y, random_state=100)\n",
    "# Fit the model\n",
    "model.fit(X_train, y_train)\n",
    "\n",
    "predicted = model.predict(X_test)\n",
    "\n",
    "# Scored the predictions with MSE and R2\n",
    "mse = mean_squared_error(y_test, predicted)\n",
    "r2 = r2_score(y_test, predicted)\n",
    "print(f\"Mean Squared Error (MSE): {mse}\")\n",
    "print(f\"R-squared (R2 ): {r2}\")"
   ]
  },
  {
   "cell_type": "code",
   "execution_count": 15,
   "metadata": {},
   "outputs": [
    {
     "data": {
      "text/plain": [
       "0.0"
      ]
     },
     "execution_count": 15,
     "metadata": {},
     "output_type": "execute_result"
    }
   ],
   "source": [
    "model.score(X_test, y_test)"
   ]
  },
  {
   "cell_type": "code",
   "execution_count": 16,
   "metadata": {},
   "outputs": [
    {
     "data": {
      "text/plain": [
       "Text(0.5,1,'Training Data')"
      ]
     },
     "execution_count": 16,
     "metadata": {},
     "output_type": "execute_result"
    },
    {
     "data": {
      "image/png": "[encoded data removed]",
      "text/plain": [
       "<Figure size 432x288 with 1 Axes>"
      ]
     },
     "metadata": {
      "needs_background": "light"
     },
     "output_type": "display_data"
    }
   ],
   "source": [
    "#Created Scatter plot\n",
    "x_axis = combined[\"AverageTemperature\"].values.reshape(-1, 1)\n",
    "y_axis = combined[\"Hurricane Count\"].values.reshape(-1, 1)\n",
    "\n",
    "plt.scatter(x_axis, y_axis)\n",
    "plt.title(\"Training Data\") "
   ]
  },
  {
   "cell_type": "raw",
   "metadata": {},
   "source": [
    "#Added Trend line\n",
    "# fig, ax = plt.subplots(facecolor='#D7BCC8')\n",
    "pylab.plot(x_axis,y_axis,'o')\n",
    "x_axis[0]\n",
    "z = np.polyfit(x_axis[0], y_axis[0], 1)\n",
    "p = np.poly1d(z)\n",
    "pylab.plot(x_axis, p(x_axis), \"#FF6123\")\n",
    "plt.plot(x_axis,y_axis, 'ro', label ='Original data') \n",
    "plt.plot(x_axis, predictions, label ='Fitted line')\n",
    "plt.xlabel(\"Average Temperature\")\n",
    "plt.ylabel(\"Hurricane Count\")\n",
    "plt.title('Linear Regression Result') \n",
    "pylab.legend(loc='upper left')"
   ]
  },
  {
   "cell_type": "code",
   "execution_count": 49,
   "metadata": {},
   "outputs": [
    {
     "name": "stderr",
     "output_type": "stream",
     "text": [
      "/Users/raghi/anaconda3/lib/python3.7/site-packages/ipykernel_launcher.py:5: RankWarning: Polyfit may be poorly conditioned\n",
      "  \"\"\"\n"
     ]
    },
    {
     "data": {
      "text/plain": [
       "<matplotlib.legend.Legend at 0x1a28b894a8>"
      ]
     },
     "execution_count": 49,
     "metadata": {},
     "output_type": "execute_result"
    },
    {
     "data": {
      "image/png": "[encoded data removed]",
      "text/plain": [
       "<Figure size 432x288 with 1 Axes>"
      ]
     },
     "metadata": {
      "needs_background": "light"
     },
     "output_type": "display_data"
    }
   ],
   "source": [
    "#Added Trend line\n",
    "# fig, ax = plt.subplots(facecolor='#D7BCC8')\n",
    "pylab.plot(x_axis,y_axis,'o')\n",
    "x_axis[0]\n",
    "z = np.polyfit(x_axis[0], y_axis[0], 1)\n",
    "p = np.poly1d(z)\n",
    "plt.plot(x_axis,y_axis, 'ro', label ='Original data',color='#02A9EA') \n",
    "pylab.plot(x_axis, p(x_axis), \"#FF6123\",label ='Fitted data')\n",
    "plt.xlabel(\"Average Temperature\")\n",
    "plt.ylabel(\"Hurricane Count\")\n",
    "plt.title('Linear Regression Result') \n",
    "pylab.legend(loc='upper left')"
   ]
  }
 ],
 "metadata": {
  "kernelspec": {
   "display_name": "Python 3",
   "language": "python",
   "name": "python3"
  },
  "language_info": {
   "codemirror_mode": {
    "name": "ipython",
    "version": 3
   },
   "file_extension": ".py",
   "mimetype": "text/x-python",
   "name": "python",
   "nbconvert_exporter": "python",
   "pygments_lexer": "ipython3",
   "version": "3.7.0"
  }
 },
 "nbformat": 4,
 "nbformat_minor": 2
}
